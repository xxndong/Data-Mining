{
  "nbformat": 4,
  "nbformat_minor": 0,
  "metadata": {
    "colab": {
      "name": "Untitled1.ipynb",
      "provenance": []
    },
    "kernelspec": {
      "name": "python3",
      "display_name": "Python 3"
    },
    "language_info": {
      "name": "python"
    }
  },
  "cells": [
    {
      "cell_type": "code",
      "execution_count": 1,
      "metadata": {
        "id": "Bh6iir2EbTqK"
      },
      "outputs": [],
      "source": [
        "import numpy as np"
      ]
    },
    {
      "cell_type": "code",
      "source": [
        "def forwardPass(inputs, weight, bias) :\n",
        "    w_sum = np.dot(inputs, weight) + bias\n",
        "    \n",
        "    act = w_sum\n",
        "    return act"
      ],
      "metadata": {
        "id": "uHgYgsk5bjqC"
      },
      "execution_count": 2,
      "outputs": []
    },
    {
      "cell_type": "code",
      "source": [
        "W = np.array([[2.99999928]])\n",
        "b = np.array([1.99999976])"
      ],
      "metadata": {
        "id": "AyrWAC7DblEr"
      },
      "execution_count": 3,
      "outputs": []
    },
    {
      "cell_type": "code",
      "source": [
        "inputs = np.array([[7], [8], [9], [10]])"
      ],
      "metadata": {
        "id": "rjJpzqZybox0"
      },
      "execution_count": 4,
      "outputs": []
    },
    {
      "cell_type": "code",
      "source": [
        "o_out = forwardPass(inputs, W, b)"
      ],
      "metadata": {
        "id": "3SFnmTZwbs-C"
      },
      "execution_count": 5,
      "outputs": []
    },
    {
      "cell_type": "code",
      "source": [
        "print('Output Layer Output (Linear)')\n",
        "print('================================')\n",
        "print(o_out, \"\\n\")"
      ],
      "metadata": {
        "colab": {
          "base_uri": "https://localhost:8080/"
        },
        "id": "A9_dMABGbwW5",
        "outputId": "4e7686c8-b143-4e75-acda-fa7f191008f1"
      },
      "execution_count": 6,
      "outputs": [
        {
          "output_type": "stream",
          "name": "stdout",
          "text": [
            "Output Layer Output (Linear)\n",
            "================================\n",
            "[[22.99999472]\n",
            " [25.999994  ]\n",
            " [28.99999328]\n",
            " [31.99999256]] \n",
            "\n"
          ]
        }
      ]
    },
    {
      "cell_type": "code",
      "source": [
        ""
      ],
      "metadata": {
        "id": "kblohnqTbz9g"
      },
      "execution_count": null,
      "outputs": []
    }
  ]
}