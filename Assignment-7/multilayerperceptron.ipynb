{
  "nbformat": 4,
  "nbformat_minor": 0,
  "metadata": {
    "colab": {
      "name": "multilayerperceptron.ipynb",
      "provenance": []
    },
    "kernelspec": {
      "name": "python3",
      "display_name": "Python 3"
    },
    "language_info": {
      "name": "python"
    }
  },
  "cells": [
    {
      "cell_type": "code",
      "execution_count": 1,
      "metadata": {
        "id": "_nFhqe_5cEx9"
      },
      "outputs": [],
      "source": [
        "import numpy as np"
      ]
    },
    {
      "cell_type": "code",
      "source": [
        "def forwardPass(inputs, weight, bias, activation = 'linear') :\n",
        "    w_sum = np.dot(inputs, weight) + bias\n",
        "    \n",
        "    if activation == 'relu' :\n",
        "        act = np.maximum(w_sum, 0)\n",
        "    else :\n",
        "        act = w_sum\n",
        "        \n",
        "    return act"
      ],
      "metadata": {
        "id": "xt1oubf6cPlV"
      },
      "execution_count": 2,
      "outputs": []
    },
    {
      "cell_type": "code",
      "source": [
        "# Pre-Trained Weights & Biases after Training\n",
        "W_H = np.array([[0.00192761, -0.78845304, 0.30310717, 0.44131625, 0.32792646, -0.02451803, 1.43445349, -1.12972116]])\n",
        "b_H = np.array([-0.02657719, -1.15885878, -0.79183501, -0.33550513, -0.23438406, -0.25078532, 0.22305705, 0.80253315])\n",
        "\n",
        "W_o = np.array([[-0.77540326], [ 0.5030424 ], [ 0.37374797], [-0.20287184], [-0.35956827], [-0.54576212], [ 1.04326093], [ 0.8857621 ]])\n",
        "b_o = np.array([ 0.04351173])"
      ],
      "metadata": {
        "id": "227dJ-96cTK6"
      },
      "execution_count": 3,
      "outputs": []
    },
    {
      "cell_type": "code",
      "source": [
        "len(W_H[0])"
      ],
      "metadata": {
        "colab": {
          "base_uri": "https://localhost:8080/"
        },
        "id": "iWQTJFVNcWQV",
        "outputId": "840a8cad-3e67-4d1c-fa96-4bb12af1666c"
      },
      "execution_count": 4,
      "outputs": [
        {
          "output_type": "execute_result",
          "data": {
            "text/plain": [
              "8"
            ]
          },
          "metadata": {},
          "execution_count": 4
        }
      ]
    },
    {
      "cell_type": "code",
      "source": [
        "# Initialize Input Data\n",
        "inputs = np.array([[-2], [0], [2]])"
      ],
      "metadata": {
        "id": "TJoYfYdFcX3l"
      },
      "execution_count": 5,
      "outputs": []
    },
    {
      "cell_type": "code",
      "source": [
        "#Output of Hidden Layer\n",
        "h_out = forwardPass(inputs, W_H, b_H, 'relu')\n",
        "\n",
        "print('Hidden Layer Output (ReLU)')\n",
        "print('================================')\n",
        "print(h_out, \"\\n\")"
      ],
      "metadata": {
        "colab": {
          "base_uri": "https://localhost:8080/"
        },
        "id": "YXeVY1qZceGr",
        "outputId": "2516dc09-8940-4256-af23-54fc16f00f79"
      },
      "execution_count": 6,
      "outputs": [
        {
          "output_type": "stream",
          "name": "stdout",
          "text": [
            "Hidden Layer Output (ReLU)\n",
            "================================\n",
            "[[0.         0.4180473  0.         0.         0.         0.\n",
            "  0.         3.06197547]\n",
            " [0.         0.         0.         0.         0.         0.\n",
            "  0.22305705 0.80253315]\n",
            " [0.         0.         0.         0.54712737 0.42146886 0.\n",
            "  3.09196403 0.        ]] \n",
            "\n"
          ]
        }
      ]
    },
    {
      "cell_type": "code",
      "source": [
        "# Output of Ouput Layer\n",
        "o_out = forwardPass(h_out, W_o, b_o, 'linear')\n",
        "\n",
        "print('Output Layer Output (Linear)')\n",
        "print('================================')\n",
        "print(o_out, \"\\n\")"
      ],
      "metadata": {
        "colab": {
          "base_uri": "https://localhost:8080/"
        },
        "id": "GV8JojTWchOL",
        "outputId": "3a319c03-efad-46c4-8ef8-95085eb4ca2a"
      },
      "execution_count": 7,
      "outputs": [
        {
          "output_type": "stream",
          "name": "stdout",
          "text": [
            "Output Layer Output (Linear)\n",
            "================================\n",
            "[[2.96598907]\n",
            " [0.98707188]\n",
            " [3.00669343]] \n",
            "\n"
          ]
        }
      ]
    }
  ]
}